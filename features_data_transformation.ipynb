{
 "cells": [
  {
   "cell_type": "code",
   "execution_count": 0,
   "metadata": {
    "application/vnd.databricks.v1+cell": {
     "cellMetadata": {
      "byteLimit": 2048000,
      "rowLimit": 10000
     },
     "inputWidgets": {},
     "nuid": "4560f234-9d78-441e-80d5-66a9061703d8",
     "showTitle": false,
     "title": ""
    }
   },
   "outputs": [
    {
     "output_type": "display_data",
     "data": {
      "text/html": [
       "<style scoped>\n",
       "  .table-result-container {\n",
       "    max-height: 300px;\n",
       "    overflow: auto;\n",
       "  }\n",
       "  table, th, td {\n",
       "    border: 1px solid black;\n",
       "    border-collapse: collapse;\n",
       "  }\n",
       "  th, td {\n",
       "    padding: 5px;\n",
       "  }\n",
       "  th {\n",
       "    text-align: left;\n",
       "  }\n",
       "</style><div class='table-result-container'><table class='table-result'><thead style='background-color: white'><tr><th>path</th><th>name</th><th>size</th><th>modificationTime</th></tr></thead><tbody><tr><td>dbfs:/mnt/spotify/raw-data/</td><td>raw-data/</td><td>0</td><td>1693827752000</td></tr><tr><td>dbfs:/mnt/spotify/transformed_data/</td><td>transformed_data/</td><td>0</td><td>1693832843000</td></tr></tbody></table></div>"
      ]
     },
     "metadata": {
      "application/vnd.databricks.v1+output": {
       "addedWidgets": {},
       "aggData": [],
       "aggError": "",
       "aggOverflow": false,
       "aggSchema": [],
       "aggSeriesLimitReached": false,
       "aggType": "",
       "arguments": {},
       "columnCustomDisplayInfos": {},
       "data": [
        [
         "dbfs:/mnt/spotify/raw-data/",
         "raw-data/",
         0,
         1693827752000
        ],
        [
         "dbfs:/mnt/spotify/transformed_data/",
         "transformed_data/",
         0,
         1693832843000
        ]
       ],
       "datasetInfos": [],
       "dbfsResultPath": null,
       "isJsonSchema": true,
       "metadata": {
        "isDbfsCommandResult": false
       },
       "overflow": false,
       "plotOptions": {
        "customPlotOptions": {},
        "displayType": "table",
        "pivotAggregation": null,
        "pivotColumns": null,
        "xColumns": null,
        "yColumns": null
       },
       "removedWidgets": [],
       "schema": [
        {
         "metadata": "{}",
         "name": "path",
         "type": "\"string\""
        },
        {
         "metadata": "{}",
         "name": "name",
         "type": "\"string\""
        },
        {
         "metadata": "{}",
         "name": "size",
         "type": "\"long\""
        },
        {
         "metadata": "{}",
         "name": "modificationTime",
         "type": "\"long\""
        }
       ],
       "type": "table"
      }
     },
     "output_type": "display_data"
    }
   ],
   "source": [
    "%fs\n",
    "ls \"/mnt/spotify\""
   ]
  },
  {
   "cell_type": "code",
   "execution_count": 0,
   "metadata": {
    "application/vnd.databricks.v1+cell": {
     "cellMetadata": {
      "byteLimit": 2048000,
      "rowLimit": 10000
     },
     "inputWidgets": {},
     "nuid": "c9f71b66-c047-4ef0-8aaf-a96e1f4fb712",
     "showTitle": false,
     "title": ""
    }
   },
   "outputs": [],
   "source": [
    "from pyspark.sql.functions import *\n",
    "from pyspark.sql.types import *     "
   ]
  },
  {
   "cell_type": "code",
   "execution_count": 0,
   "metadata": {
    "application/vnd.databricks.v1+cell": {
     "cellMetadata": {
      "byteLimit": 2048000,
      "rowLimit": 10000
     },
     "inputWidgets": {},
     "nuid": "4ebc2cfb-c93a-494c-9315-764df0ade829",
     "showTitle": false,
     "title": ""
    }
   },
   "outputs": [],
   "source": [
    "# Loading data\n",
    "ariana_grande = spark.read.csv('/mnt/spotify/raw-data/Ariana_Grande_feat.csv', header=True, inferSchema=True)\n",
    "billie_eilish = spark.read.csv('/mnt/spotify/raw-data/Billie_Eillish_feats.csv', header=True, inferSchema=True)\n",
    "dj_khaled = spark.read.csv('/mnt/spotify/raw-data/DJ_Khaled_feats.csv', header=True, inferSchema=True)\n",
    "drake = spark.read.csv('/mnt/spotify/raw-data/Drake_feats.csv', header=True, inferSchema=True)\n",
    "dua_lipa = spark.read.csv('/mnt/spotify/raw-data/Dua_Lipa_feats.csv', header=True, inferSchema=True)\n",
    "ed_sheeran = spark.read.csv('/mnt/spotify/raw-data/Ed_Sheeran_feat.csv', header=True, inferSchema=True)\n",
    "justin_biebar = spark.read.csv('/mnt/spotify/raw-data/Justin_Beiber_feats.csv', header=True, inferSchema=True)\n",
    "taylor_swift = spark.read.csv('/mnt/spotify/raw-data/Taylor_Swift_feats.csv', header=True, inferSchema=True)\n",
    "the_weeknd = spark.read.csv('/mnt/spotify/raw-data/The_Weeknd_feats.csv', header=True, inferSchema=True)\n",
    "travis_scott = spark.read.csv('/mnt/spotify/raw-data/Travis_Scott_feats.csv', header=True, inferSchema=True)"
   ]
  },
  {
   "cell_type": "markdown",
   "metadata": {
    "application/vnd.databricks.v1+cell": {
     "cellMetadata": {
      "byteLimit": 2048000,
      "rowLimit": 10000
     },
     "inputWidgets": {},
     "nuid": "63fc63c9-d77b-42a2-9995-b152676e5352",
     "showTitle": false,
     "title": ""
    }
   },
   "source": [
    "## Combine Datasets"
   ]
  },
  {
   "cell_type": "code",
   "execution_count": 0,
   "metadata": {
    "application/vnd.databricks.v1+cell": {
     "cellMetadata": {
      "byteLimit": 2048000,
      "rowLimit": 10000
     },
     "inputWidgets": {},
     "nuid": "eb84da54-5439-4cdd-b0eb-705acb998838",
     "showTitle": false,
     "title": ""
    }
   },
   "outputs": [],
   "source": [
    "features_df = ariana_grande.union(billie_eilish).union(dj_khaled).union(drake).union(dua_lipa).union(ed_sheeran).union(justin_biebar).union(taylor_swift).union(the_weeknd).union(travis_scott)"
   ]
  },
  {
   "cell_type": "code",
   "execution_count": 0,
   "metadata": {
    "application/vnd.databricks.v1+cell": {
     "cellMetadata": {
      "byteLimit": 2048000,
      "rowLimit": 10000
     },
     "inputWidgets": {},
     "nuid": "b868bbec-91f4-4ad4-a33d-18bdd7eb0e64",
     "showTitle": false,
     "title": ""
    }
   },
   "outputs": [
    {
     "output_type": "stream",
     "name": "stdout",
     "output_type": "stream",
     "text": [
      "+--------------------+-----------+------+---+-------+----+------+--------+----------+-------+-------+-------+--------+--------------+\n|                  id|dancebility|energy|key|loudnes|mode|speech|acoustic|instrument|livenss|valance|  tempo|duration|time_signature|\n+--------------------+-----------+------+---+-------+----+------+--------+----------+-------+-------+-------+--------+--------------+\n|63y6xWR4gXz7bnUGO...|      0.623| 0.734|  9| -5.948|   1| 0.107|  0.0162|   1.75E-6|  0.145|   0.37|107.853|  244453|             4|\n|6RUhbFEhrvGISaQ8u...|      0.664| 0.602|  4| -5.369|   0|0.0412|  0.0529|       0.0|  0.356|  0.289|134.049|  235947|             3|\n|6ocbgoVGwYJhOv1Gg...|      0.778| 0.317|  1|-10.732|   0| 0.334|   0.592|       0.0| 0.0881|  0.327|140.048|  178627|             4|\n|43bCmCI0nSgcT7QdM...|       0.65| 0.736|  6|  -5.84|   0| 0.229|  0.0528|       0.0|  0.235|  0.613|159.173|  226160|             4|\n|5OCJzvD7sykQEKHH7...|      0.602| 0.658|  1| -5.934|   1|0.0558|  0.0233|    6.0E-5|  0.237|  0.268|145.031|  197547|             4|\n|35mvY5S1H3J2QZyna...|      0.737| 0.802|  0| -4.771|   1|0.0878|   0.468|       0.0| 0.0931|  0.682|144.015|  172325|             4|\n|1bj8x3ERN9gSc2NfJ...|      0.474| 0.533|  0| -5.648|   0|0.0559|    0.36|       0.0|  0.101|  0.165|131.762|  201882|             4|\n|2qT1uLXPVPzGgFOx4...|      0.699| 0.713|  9| -5.507|   0|0.0594|    0.04|   3.11E-6|  0.294|  0.354|121.993|  205920|             4|\n|7xoUc6faLbCqZO6fQ...|      0.628| 0.593|  8| -5.036|   1|0.0323|   0.093|   1.65E-6|  0.096|  0.104|125.026|  197267|             4|\n|3e9HZxeyfWwjeyPAM...|      0.717| 0.653|  1| -5.634|   1|0.0658|   0.229|       0.0|  0.101|  0.412|106.966|  207320|             4|\n|6Im9k8u9iIzKMrmV7...|       0.83| 0.585|  0| -6.476|   1| 0.094|   0.237|       0.0|  0.248|  0.485|109.978|  173711|             4|\n|5J4ZkQpzMUFojo1Ct...|      0.472| 0.714|  1| -4.389|   0|0.0334| 0.00937|       0.0| 0.0764|   0.24| 98.992|  236133|             4|\n|12KUFSHFgT0XCoiSl...|      0.687| 0.702|  7| -5.324|   0|0.0455|  0.0064|   4.35E-5|  0.204|  0.284|129.956|  214840|             4|\n|3QPBocWfIcOCdFFvm...|      0.566| 0.581|  9| -5.181|   1| 0.043|   0.216|       0.0| 0.0853|  0.152|130.043|  201668|             4|\n|37BZB0z9T8Xu7U3e6...|       0.65| 0.825|  0| -4.645|   1|0.0325|  0.0215|   2.44E-5| 0.0936|  0.593|118.091|  191014|             4|\n|4kV4N9D1iKVxx1KLv...|      0.726| 0.554|  5|  -5.29|   0|0.0917|  0.0421|       0.0|  0.106|  0.335|169.999|  190440|             4|\n|7vS3Y0IKjde7Xg85L...|       0.66| 0.805|  1| -5.352|   0| 0.153|  0.0192|   8.83E-6|  0.159|  0.625|103.008|  193920|             4|\n|4OafepJy2teCjYJbv...|      0.568| 0.656|  8| -5.413|   1|0.0433|  0.0211|   1.37E-5|  0.213|  0.364|100.049|  198160|             4|\n|5GkQIP5mWPi4KZLLX...|      0.789| 0.742| 10| -5.664|   0|0.0652|  0.0681|       0.0|  0.166|  0.661|116.965|  167990|             4|\n|0S4RKPbRDA72tvKwV...|      0.645| 0.878|  5| -3.208|   0| 0.113|   0.294|       0.0|  0.076|  0.862| 82.324|  227027|             4|\n+--------------------+-----------+------+---+-------+----+------+--------+----------+-------+-------+-------+--------+--------------+\nonly showing top 20 rows\n\n"
     ]
    }
   ],
   "source": [
    "features_df.show()"
   ]
  },
  {
   "cell_type": "code",
   "execution_count": 0,
   "metadata": {
    "application/vnd.databricks.v1+cell": {
     "cellMetadata": {
      "byteLimit": 2048000,
      "rowLimit": 10000
     },
     "inputWidgets": {},
     "nuid": "9cda063a-1f07-4fae-81c4-507307649519",
     "showTitle": false,
     "title": ""
    }
   },
   "outputs": [],
   "source": [
    "features_df = features_df.withColumnRenamed('id', 'trackID') \\\n",
    "                        .withColumnRenamed('dancebility', 'danceability') \\\n",
    "                        .withColumnRenamed('energy', 'energy') \\\n",
    "                        .withColumnRenamed('loudnes', 'loudness') \\\n",
    "                        .withColumnRenamed('mode', 'mode') \\\n",
    "                        .withColumnRenamed('speech', 'speechiness') \\\n",
    "                        .withColumnRenamed('acoustic', 'acousticness') \\\n",
    "                        .withColumnRenamed('instrument', 'instrumentalness') \\\n",
    "                        .withColumnRenamed('livenss', 'liveness') \\\n",
    "                        .withColumnRenamed('valance', 'valence') \\\n",
    "                        .withColumnRenamed('tempo', 'tempo') \\\n",
    "                        .withColumnRenamed('duration', 'duration') \\\n",
    "                        .withColumnRenamed('time_signature', 'time_signature')"
   ]
  },
  {
   "cell_type": "code",
   "execution_count": 0,
   "metadata": {
    "application/vnd.databricks.v1+cell": {
     "cellMetadata": {
      "byteLimit": 2048000,
      "rowLimit": 10000
     },
     "inputWidgets": {},
     "nuid": "81767c7e-5683-4e78-82b0-5f0e03cbd090",
     "showTitle": false,
     "title": ""
    }
   },
   "outputs": [],
   "source": [
    "features_df = features_df.withColumn(\"duration\", round(col(\"duration\") / 1000, 2))"
   ]
  },
  {
   "cell_type": "code",
   "execution_count": 0,
   "metadata": {
    "application/vnd.databricks.v1+cell": {
     "cellMetadata": {
      "byteLimit": 2048000,
      "rowLimit": 10000
     },
     "inputWidgets": {},
     "nuid": "00c3ca01-ddd4-44a9-acbd-6af415bdfe4f",
     "showTitle": false,
     "title": ""
    }
   },
   "outputs": [
    {
     "output_type": "stream",
     "name": "stdout",
     "output_type": "stream",
     "text": [
      "+--------------------+------------+------+---+--------+----+-----------+------------+----------------+--------+-------+-------+--------+--------------+\n|             trackID|danceability|energy|key|loudness|mode|speechiness|acousticness|instrumentalness|liveness|valence|  tempo|duration|time_signature|\n+--------------------+------------+------+---+--------+----+-----------+------------+----------------+--------+-------+-------+--------+--------------+\n|63y6xWR4gXz7bnUGO...|       0.623| 0.734|  9|  -5.948|   1|      0.107|      0.0162|         1.75E-6|   0.145|   0.37|107.853|  244.45|             4|\n|6RUhbFEhrvGISaQ8u...|       0.664| 0.602|  4|  -5.369|   0|     0.0412|      0.0529|             0.0|   0.356|  0.289|134.049|  235.95|             3|\n|6ocbgoVGwYJhOv1Gg...|       0.778| 0.317|  1| -10.732|   0|      0.334|       0.592|             0.0|  0.0881|  0.327|140.048|  178.63|             4|\n|43bCmCI0nSgcT7QdM...|        0.65| 0.736|  6|   -5.84|   0|      0.229|      0.0528|             0.0|   0.235|  0.613|159.173|  226.16|             4|\n|5OCJzvD7sykQEKHH7...|       0.602| 0.658|  1|  -5.934|   1|     0.0558|      0.0233|          6.0E-5|   0.237|  0.268|145.031|  197.55|             4|\n|35mvY5S1H3J2QZyna...|       0.737| 0.802|  0|  -4.771|   1|     0.0878|       0.468|             0.0|  0.0931|  0.682|144.015|  172.33|             4|\n|1bj8x3ERN9gSc2NfJ...|       0.474| 0.533|  0|  -5.648|   0|     0.0559|        0.36|             0.0|   0.101|  0.165|131.762|  201.88|             4|\n|2qT1uLXPVPzGgFOx4...|       0.699| 0.713|  9|  -5.507|   0|     0.0594|        0.04|         3.11E-6|   0.294|  0.354|121.993|  205.92|             4|\n|7xoUc6faLbCqZO6fQ...|       0.628| 0.593|  8|  -5.036|   1|     0.0323|       0.093|         1.65E-6|   0.096|  0.104|125.026|  197.27|             4|\n|3e9HZxeyfWwjeyPAM...|       0.717| 0.653|  1|  -5.634|   1|     0.0658|       0.229|             0.0|   0.101|  0.412|106.966|  207.32|             4|\n|6Im9k8u9iIzKMrmV7...|        0.83| 0.585|  0|  -6.476|   1|      0.094|       0.237|             0.0|   0.248|  0.485|109.978|  173.71|             4|\n|5J4ZkQpzMUFojo1Ct...|       0.472| 0.714|  1|  -4.389|   0|     0.0334|     0.00937|             0.0|  0.0764|   0.24| 98.992|  236.13|             4|\n|12KUFSHFgT0XCoiSl...|       0.687| 0.702|  7|  -5.324|   0|     0.0455|      0.0064|         4.35E-5|   0.204|  0.284|129.956|  214.84|             4|\n|3QPBocWfIcOCdFFvm...|       0.566| 0.581|  9|  -5.181|   1|      0.043|       0.216|             0.0|  0.0853|  0.152|130.043|  201.67|             4|\n|37BZB0z9T8Xu7U3e6...|        0.65| 0.825|  0|  -4.645|   1|     0.0325|      0.0215|         2.44E-5|  0.0936|  0.593|118.091|  191.01|             4|\n|4kV4N9D1iKVxx1KLv...|       0.726| 0.554|  5|   -5.29|   0|     0.0917|      0.0421|             0.0|   0.106|  0.335|169.999|  190.44|             4|\n|7vS3Y0IKjde7Xg85L...|        0.66| 0.805|  1|  -5.352|   0|      0.153|      0.0192|         8.83E-6|   0.159|  0.625|103.008|  193.92|             4|\n|4OafepJy2teCjYJbv...|       0.568| 0.656|  8|  -5.413|   1|     0.0433|      0.0211|         1.37E-5|   0.213|  0.364|100.049|  198.16|             4|\n|5GkQIP5mWPi4KZLLX...|       0.789| 0.742| 10|  -5.664|   0|     0.0652|      0.0681|             0.0|   0.166|  0.661|116.965|  167.99|             4|\n|0S4RKPbRDA72tvKwV...|       0.645| 0.878|  5|  -3.208|   0|      0.113|       0.294|             0.0|   0.076|  0.862| 82.324|  227.03|             4|\n+--------------------+------------+------+---+--------+----+-----------+------------+----------------+--------+-------+-------+--------+--------------+\nonly showing top 20 rows\n\n"
     ]
    }
   ],
   "source": [
    "features_df.show()"
   ]
  },
  {
   "cell_type": "code",
   "execution_count": 0,
   "metadata": {
    "application/vnd.databricks.v1+cell": {
     "cellMetadata": {
      "byteLimit": 2048000,
      "rowLimit": 10000
     },
     "inputWidgets": {},
     "nuid": "89ab899b-23e8-416b-af0a-85e06ffb612a",
     "showTitle": false,
     "title": ""
    }
   },
   "outputs": [
    {
     "output_type": "stream",
     "name": "stdout",
     "output_type": "stream",
     "text": [
      "root\n |-- trackID: string (nullable = true)\n |-- danceability: double (nullable = true)\n |-- energy: double (nullable = true)\n |-- key: integer (nullable = true)\n |-- loudness: double (nullable = true)\n |-- mode: integer (nullable = true)\n |-- speechiness: double (nullable = true)\n |-- acousticness: double (nullable = true)\n |-- instrumentalness: double (nullable = true)\n |-- liveness: double (nullable = true)\n |-- valence: double (nullable = true)\n |-- tempo: double (nullable = true)\n |-- duration: double (nullable = true)\n |-- time_signature: integer (nullable = true)\n\n"
     ]
    }
   ],
   "source": [
    "features_df.printSchema()"
   ]
  },
  {
   "cell_type": "code",
   "execution_count": 0,
   "metadata": {
    "application/vnd.databricks.v1+cell": {
     "cellMetadata": {
      "byteLimit": 2048000,
      "rowLimit": 10000
     },
     "inputWidgets": {},
     "nuid": "6bcf2183-644f-4dd9-96d1-bbf8bc696c55",
     "showTitle": false,
     "title": ""
    }
   },
   "outputs": [],
   "source": [
    "features_df = features_df.withColumn(\"trackID\", col(\"trackID\").cast(StringType())) \\\n",
    "                        .withColumn(\"danceability\", col(\"danceability\").cast(DoubleType())) \\\n",
    "                        .withColumn('energy', col('energy').cast(DoubleType())) \\\n",
    "                        .withColumn('key', col('key').cast(IntegerType())) \\\n",
    "                        .withColumn('loudness', col('loudness').cast(DoubleType())) \\\n",
    "                        .withColumn('mode', col('mode').cast(IntegerType())) \\\n",
    "                        .withColumn('speechiness', col('speechiness').cast(DoubleType())) \\\n",
    "                        .withColumn('acousticness',col('acousticness').cast(DoubleType())) \\\n",
    "                        .withColumn('instrumentalness', col('instrumentalness').cast(DoubleType())) \\\n",
    "                        .withColumn('liveness', col('liveness').cast(DoubleType())) \\\n",
    "                        .withColumn('valence', col('valence').cast(DoubleType())) \\\n",
    "                        .withColumn('tempo', col('tempo').cast(DoubleType())) \\\n",
    "                        .withColumn('duration', col('duration').cast(IntegerType())) \\\n",
    "                        .withColumn('time_signature', col('time_signature').cast(IntegerType()))"
   ]
  },
  {
   "cell_type": "code",
   "execution_count": 0,
   "metadata": {
    "application/vnd.databricks.v1+cell": {
     "cellMetadata": {
      "byteLimit": 2048000,
      "rowLimit": 10000
     },
     "inputWidgets": {},
     "nuid": "ec8f2df3-d3ed-4b8c-9d0e-b2cac8d9ce20",
     "showTitle": false,
     "title": ""
    }
   },
   "outputs": [
    {
     "output_type": "stream",
     "name": "stdout",
     "output_type": "stream",
     "text": [
      "+--------------------+------------+------+---+--------+----+-----------+------------+----------------+--------+-------+-------+--------+--------------+\n|             trackID|danceability|energy|key|loudness|mode|speechiness|acousticness|instrumentalness|liveness|valence|  tempo|duration|time_signature|\n+--------------------+------------+------+---+--------+----+-----------+------------+----------------+--------+-------+-------+--------+--------------+\n|63y6xWR4gXz7bnUGO...|       0.623| 0.734|  9|  -5.948|   1|      0.107|      0.0162|         1.75E-6|   0.145|   0.37|107.853|     244|             4|\n|6RUhbFEhrvGISaQ8u...|       0.664| 0.602|  4|  -5.369|   0|     0.0412|      0.0529|             0.0|   0.356|  0.289|134.049|     235|             3|\n|6ocbgoVGwYJhOv1Gg...|       0.778| 0.317|  1| -10.732|   0|      0.334|       0.592|             0.0|  0.0881|  0.327|140.048|     178|             4|\n|43bCmCI0nSgcT7QdM...|        0.65| 0.736|  6|   -5.84|   0|      0.229|      0.0528|             0.0|   0.235|  0.613|159.173|     226|             4|\n|5OCJzvD7sykQEKHH7...|       0.602| 0.658|  1|  -5.934|   1|     0.0558|      0.0233|          6.0E-5|   0.237|  0.268|145.031|     197|             4|\n|35mvY5S1H3J2QZyna...|       0.737| 0.802|  0|  -4.771|   1|     0.0878|       0.468|             0.0|  0.0931|  0.682|144.015|     172|             4|\n|1bj8x3ERN9gSc2NfJ...|       0.474| 0.533|  0|  -5.648|   0|     0.0559|        0.36|             0.0|   0.101|  0.165|131.762|     201|             4|\n|2qT1uLXPVPzGgFOx4...|       0.699| 0.713|  9|  -5.507|   0|     0.0594|        0.04|         3.11E-6|   0.294|  0.354|121.993|     205|             4|\n|7xoUc6faLbCqZO6fQ...|       0.628| 0.593|  8|  -5.036|   1|     0.0323|       0.093|         1.65E-6|   0.096|  0.104|125.026|     197|             4|\n|3e9HZxeyfWwjeyPAM...|       0.717| 0.653|  1|  -5.634|   1|     0.0658|       0.229|             0.0|   0.101|  0.412|106.966|     207|             4|\n|6Im9k8u9iIzKMrmV7...|        0.83| 0.585|  0|  -6.476|   1|      0.094|       0.237|             0.0|   0.248|  0.485|109.978|     173|             4|\n|5J4ZkQpzMUFojo1Ct...|       0.472| 0.714|  1|  -4.389|   0|     0.0334|     0.00937|             0.0|  0.0764|   0.24| 98.992|     236|             4|\n|12KUFSHFgT0XCoiSl...|       0.687| 0.702|  7|  -5.324|   0|     0.0455|      0.0064|         4.35E-5|   0.204|  0.284|129.956|     214|             4|\n|3QPBocWfIcOCdFFvm...|       0.566| 0.581|  9|  -5.181|   1|      0.043|       0.216|             0.0|  0.0853|  0.152|130.043|     201|             4|\n|37BZB0z9T8Xu7U3e6...|        0.65| 0.825|  0|  -4.645|   1|     0.0325|      0.0215|         2.44E-5|  0.0936|  0.593|118.091|     191|             4|\n|4kV4N9D1iKVxx1KLv...|       0.726| 0.554|  5|   -5.29|   0|     0.0917|      0.0421|             0.0|   0.106|  0.335|169.999|     190|             4|\n|7vS3Y0IKjde7Xg85L...|        0.66| 0.805|  1|  -5.352|   0|      0.153|      0.0192|         8.83E-6|   0.159|  0.625|103.008|     193|             4|\n|4OafepJy2teCjYJbv...|       0.568| 0.656|  8|  -5.413|   1|     0.0433|      0.0211|         1.37E-5|   0.213|  0.364|100.049|     198|             4|\n|5GkQIP5mWPi4KZLLX...|       0.789| 0.742| 10|  -5.664|   0|     0.0652|      0.0681|             0.0|   0.166|  0.661|116.965|     167|             4|\n|0S4RKPbRDA72tvKwV...|       0.645| 0.878|  5|  -3.208|   0|      0.113|       0.294|             0.0|   0.076|  0.862| 82.324|     227|             4|\n+--------------------+------------+------+---+--------+----+-----------+------------+----------------+--------+-------+-------+--------+--------------+\nonly showing top 20 rows\n\n"
     ]
    }
   ],
   "source": [
    "features_df.show()"
   ]
  },
  {
   "cell_type": "markdown",
   "metadata": {
    "application/vnd.databricks.v1+cell": {
     "cellMetadata": {
      "byteLimit": 2048000,
      "rowLimit": 10000
     },
     "inputWidgets": {},
     "nuid": "5fcd06d4-466d-46a4-b27d-d06fa755c576",
     "showTitle": false,
     "title": ""
    }
   },
   "source": [
    "## Write file to Data Lake"
   ]
  },
  {
   "cell_type": "code",
   "execution_count": 0,
   "metadata": {
    "application/vnd.databricks.v1+cell": {
     "cellMetadata": {
      "byteLimit": 2048000,
      "rowLimit": 10000
     },
     "inputWidgets": {},
     "nuid": "492d43f8-c627-4211-8115-59b754317a7b",
     "showTitle": false,
     "title": ""
    }
   },
   "outputs": [],
   "source": [
    "features_df.repartition(1).write.mode(\"overwrite\").option(\"header\",\"true\").csv(\"/mnt/spotify/transformed-data/spotify_tracks_features\")"
   ]
  }
 ],
 "metadata": {
  "application/vnd.databricks.v1+notebook": {
   "dashboards": [],
   "language": "python",
   "notebookMetadata": {
    "mostRecentlyExecutedCommandWithImplicitDF": {
     "commandId": 3651536916832382,
     "dataframes": [
      "_sqldf"
     ]
    },
    "pythonIndentUnit": 4
   },
   "notebookName": "Spotify Data Trasnformation - 2",
   "widgets": {}
  }
 },
 "nbformat": 4,
 "nbformat_minor": 0
}
