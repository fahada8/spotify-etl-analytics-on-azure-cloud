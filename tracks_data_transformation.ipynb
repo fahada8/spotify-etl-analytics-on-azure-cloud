{
 "cells": [
  {
   "cell_type": "code",
   "execution_count": 0,
   "metadata": {
    "application/vnd.databricks.v1+cell": {
     "cellMetadata": {
      "byteLimit": 2048000,
      "rowLimit": 10000
     },
     "inputWidgets": {},
     "nuid": "980ff723-e056-4c04-b71e-3f1359d1407b",
     "showTitle": false,
     "title": ""
    }
   },
   "outputs": [
    {
     "output_type": "stream",
     "name": "stdout",
     "output_type": "stream",
     "text": [
      "Out[2]: True"
     ]
    }
   ],
   "source": [
    "configs = {\"fs.azure.account.auth.type\": \"OAuth\",\n",
    "\"fs.azure.account.oauth.provider.type\": \"org.apache.hadoop.fs.azurebfs.oauth2.ClientCredsTokenProvider\",\n",
    "\"fs.azure.account.oauth2.client.id\": \"CLIENT_ID\",\n",
    "\"fs.azure.account.oauth2.client.secret\": 'CLIENT_SECRET',\n",
    "\"fs.azure.account.oauth2.client.endpoint\": \"https://login.microsoftonline.com/TENANT-ID/oauth2/token\"}\n",
    "\n",
    "\n",
    "dbutils.fs.mount(\n",
    "source = \"abfss://spotifydata@spotifydata02.dfs.core.windows.net\", # contrainer@storageacc\n",
    "mount_point = \"/mnt/spotify\",\n",
    "extra_configs = configs)"
   ]
  },
  {
   "cell_type": "code",
   "execution_count": 0,
   "metadata": {
    "application/vnd.databricks.v1+cell": {
     "cellMetadata": {
      "byteLimit": 2048000,
      "rowLimit": 10000
     },
     "inputWidgets": {},
     "nuid": "02005d5a-055c-4b95-9442-329c83486e33",
     "showTitle": false,
     "title": ""
    }
   },
   "outputs": [
    {
     "output_type": "display_data",
     "data": {
      "text/html": [
       "<style scoped>\n",
       "  .table-result-container {\n",
       "    max-height: 300px;\n",
       "    overflow: auto;\n",
       "  }\n",
       "  table, th, td {\n",
       "    border: 1px solid black;\n",
       "    border-collapse: collapse;\n",
       "  }\n",
       "  th, td {\n",
       "    padding: 5px;\n",
       "  }\n",
       "  th {\n",
       "    text-align: left;\n",
       "  }\n",
       "</style><div class='table-result-container'><table class='table-result'><thead style='background-color: white'><tr><th>path</th><th>name</th><th>size</th><th>modificationTime</th></tr></thead><tbody><tr><td>dbfs:/mnt/spotify/raw-data/</td><td>raw-data/</td><td>0</td><td>1693827752000</td></tr><tr><td>dbfs:/mnt/spotify/transformed-data/</td><td>transformed-data/</td><td>0</td><td>1693840233000</td></tr></tbody></table></div>"
      ]
     },
     "metadata": {
      "application/vnd.databricks.v1+output": {
       "addedWidgets": {},
       "aggData": [],
       "aggError": "",
       "aggOverflow": false,
       "aggSchema": [],
       "aggSeriesLimitReached": false,
       "aggType": "",
       "arguments": {},
       "columnCustomDisplayInfos": {},
       "data": [
        [
         "dbfs:/mnt/spotify/raw-data/",
         "raw-data/",
         0,
         1693827752000
        ],
        [
         "dbfs:/mnt/spotify/transformed-data/",
         "transformed-data/",
         0,
         1693840233000
        ]
       ],
       "datasetInfos": [],
       "dbfsResultPath": null,
       "isJsonSchema": true,
       "metadata": {
        "isDbfsCommandResult": false
       },
       "overflow": false,
       "plotOptions": {
        "customPlotOptions": {},
        "displayType": "table",
        "pivotAggregation": null,
        "pivotColumns": null,
        "xColumns": null,
        "yColumns": null
       },
       "removedWidgets": [],
       "schema": [
        {
         "metadata": "{}",
         "name": "path",
         "type": "\"string\""
        },
        {
         "metadata": "{}",
         "name": "name",
         "type": "\"string\""
        },
        {
         "metadata": "{}",
         "name": "size",
         "type": "\"long\""
        },
        {
         "metadata": "{}",
         "name": "modificationTime",
         "type": "\"long\""
        }
       ],
       "type": "table"
      }
     },
     "output_type": "display_data"
    }
   ],
   "source": [
    "%fs\n",
    "ls \"/mnt/spotify\""
   ]
  },
  {
   "cell_type": "code",
   "execution_count": 0,
   "metadata": {
    "application/vnd.databricks.v1+cell": {
     "cellMetadata": {
      "byteLimit": 2048000,
      "rowLimit": 10000
     },
     "inputWidgets": {},
     "nuid": "410ca7c4-4955-488a-a45e-443e2d801ebe",
     "showTitle": false,
     "title": ""
    }
   },
   "outputs": [],
   "source": [
    "from pyspark.sql.functions import *\n",
    "from pyspark.sql.types import *     "
   ]
  },
  {
   "cell_type": "code",
   "execution_count": 0,
   "metadata": {
    "application/vnd.databricks.v1+cell": {
     "cellMetadata": {
      "byteLimit": 2048000,
      "rowLimit": 10000
     },
     "inputWidgets": {},
     "nuid": "61ea64a1-cf48-47c5-bf47-edf8a74c7936",
     "showTitle": false,
     "title": ""
    }
   },
   "outputs": [],
   "source": [
    "# Import files\n",
    "the_weeknd = spark.read.csv('/mnt/spotify/raw-data/The_Weeknd.csv', header = True, inferSchema = True )\n",
    "taylor_swift = spark.read.csv('/mnt/spotify/raw-data/Taylor_Swift.csv', header = True, inferSchema = True)\n",
    "drake = spark.read.csv('/mnt/spotify/raw-data/Drake.csv', header = True, inferSchema = True)\n",
    "billie_eilish = spark.read.csv('/mnt/spotify/raw-data/Billie_Eilish.csv', header = True, inferSchema = True)\n",
    "ed_sheeran = spark.read.csv('/mnt/spotify/raw-data/Ed_Sheeran.csv', header = True, inferSchema = True)\n",
    "ariana_grande = spark.read.csv('/mnt/spotify/raw-data/Ariana_Grande.csv', header = True, inferSchema = True)\n",
    "travis_scott = spark.read.csv('/mnt/spotify/raw-data/Travis_Scott.csv', header = True, inferSchema = True)\n",
    "justin_beiber = spark.read.csv('/mnt/spotify/raw-data/Justin_Bieber.csv', header = True, inferSchema = True)\n",
    "dj_khaled = spark.read.csv('/mnt/spotify/raw-data/DJ_Khaled.csv', header = True, inferSchema = True)\n",
    "dua_lipa = spark.read.csv('/mnt/spotify/raw-data/Dua_Lipa.csv', header = True, inferSchema = True)"
   ]
  },
  {
   "cell_type": "markdown",
   "metadata": {
    "application/vnd.databricks.v1+cell": {
     "cellMetadata": {
      "byteLimit": 2048000,
      "rowLimit": 10000
     },
     "inputWidgets": {},
     "nuid": "1409ac9a-e67c-4b62-acaf-4008ed9d86be",
     "showTitle": false,
     "title": ""
    }
   },
   "source": [
    "## Combining the Datasets"
   ]
  },
  {
   "cell_type": "code",
   "execution_count": 0,
   "metadata": {
    "application/vnd.databricks.v1+cell": {
     "cellMetadata": {
      "byteLimit": 2048000,
      "rowLimit": 10000
     },
     "inputWidgets": {},
     "nuid": "ee9dff23-954c-4661-8812-953e97d37520",
     "showTitle": false,
     "title": ""
    }
   },
   "outputs": [],
   "source": [
    "new_df = the_weeknd.union(taylor_swift).union(drake).union(billie_eilish).union(ed_sheeran).union(ariana_grande).union(travis_scott).union(justin_beiber).union(dj_khaled).union(dua_lipa).orderBy(rand())"
   ]
  },
  {
   "cell_type": "code",
   "execution_count": 0,
   "metadata": {
    "application/vnd.databricks.v1+cell": {
     "cellMetadata": {
      "byteLimit": 2048000,
      "rowLimit": 10000
     },
     "inputWidgets": {},
     "nuid": "10de1b29-ef3b-4445-bb0d-d54e2009250e",
     "showTitle": false,
     "title": ""
    }
   },
   "outputs": [
    {
     "output_type": "stream",
     "name": "stdout",
     "output_type": "stream",
     "text": [
      "+--------------------+--------------------+--------------------+--------------------+-------------------+------------+---------------+--------------------+\n|             TrackID|           TrackName|           AlbumName|          ArtistName|        ReleaseDate|Duration(ms)|PopularityIndex|                 URL|\n+--------------------+--------------------+--------------------+--------------------+-------------------+------------+---------------+--------------------+\n|12PNcnMsjsZ3eHm62...|All I Do Is Win (...|             Victory|           DJ Khaled|2010-03-02 00:00:00|      232506|             71|https://open.spot...|\n|3ZCTVFBt2Brf31RLE...| everything i wanted| everything i wanted|       Billie Eilish|2019-11-13 00:00:00|      245425|             86|https://open.spot...|\n|0HaRLPnr887lcQM2Y...|For My Hand (feat...|        Love, Damini|Burna Boy, Ed She...|2022-07-07 00:00:00|      159123|             79|https://open.spot...|\n|3WxmlTZ85sCYFnuIX...|         party favor|    dont smile at me|       Billie Eilish|2017-12-22 00:00:00|      204770|             70|https://open.spot...|\n|3GYlZ7tbxLOxe6ewM...|                  TV|        Guitar Songs|       Billie Eilish|2022-07-21 00:00:00|      281380|             87|https://open.spot...|\n|4XbOWk2QMKiAvMBmC...|   Out Here Grindin'|           We Global|DJ Khaled, Plies,...|2008-09-16 00:00:00|      237240|             50|https://open.spot...|\n|6NmCCgnQcxKHPOAKg...|              Baby I|         Yours Truly|       Ariana Grande|2013-01-01 00:00:00|      197600|             65|https://open.spot...|\n|0QBzMgT7NIeoCYy3s...|Bam Bam (feat. Ed...|Bam Bam (feat. Ed...|Camila Cabello, E...|2022-03-04 00:00:00|      206070|             80|https://open.spot...|\n|0K2UmT0JOcEaLssWd...|off the table (wi...|           Positions|Ariana Grande, Th...|2020-10-30 00:00:00|      239949|             57|https://open.spot...|\n|2KLwPaRDOB87XOYAT...|Pussy & Millions ...|            Her Loss|Drake, 21 Savage,...|2022-11-04 00:00:00|      242026|             80|https://open.spot...|\n|2lD4LsB3iQVnddkVM...| Take It To The Head|Kiss The Ring (De...|DJ Khaled, Chris ...|2012-01-01 00:00:00|      267173|             55|https://open.spot...|\n|6vN77lE9LK6HP2Dew...|          Yes Indeed|    Harder Than Ever|     Lil Baby, Drake|2018-05-18 00:00:00|      142273|             83|https://open.spot...|\n|7jr3iPu4O4bTCVwLM...|    Kiss and Make Up|Dua Lipa (Complet...| Dua Lipa, BLACKPINK|2018-10-19 00:00:00|      189173|             76|https://open.spot...|\n|6IRdLKIyS4p7XNiP8...|all the good girl...|WHEN WE ALL FALL ...|       Billie Eilish|2019-03-29 00:00:00|      168839|             77|https://open.spot...|\n|5dPz35akJjPqb17ye...|               Ghost|             Justice|       Justin Bieber|2021-03-19 00:00:00|      153190|             76|https://open.spot...|\n|2KrOAg6FftbjgSKdd...|     You Are In Love|1989 (Deluxe Edit...|        Taylor Swift|2014-10-27 00:00:00|      267106|             74|https://open.spot...|\n|5XsAal7ZcWg1I5T4N...|      Halley's Comet|   Happier Than Ever|       Billie Eilish|2021-07-30 00:00:00|      234761|             79|https://open.spot...|\n|7uJH0YdSZL6psjxI6...|          Acquainted|Beauty Behind The...|          The Weeknd|2015-08-28 00:00:00|      348853|             76|https://open.spot...|\n|3cjF2OFRmip8spwZY...|        Feel No Ways|               Views|               Drake|2016-05-06 00:00:00|      240653|             79|https://open.spot...|\n|3RaT22zZsxVYxxKR7...|no body, no crime...|            evermore|  Taylor Swift, HAIM|2020-12-11 00:00:00|      215626|             75|https://open.spot...|\n+--------------------+--------------------+--------------------+--------------------+-------------------+------------+---------------+--------------------+\nonly showing top 20 rows\n\n"
     ]
    }
   ],
   "source": [
    "new_df.show()"
   ]
  },
  {
   "cell_type": "code",
   "execution_count": 0,
   "metadata": {
    "application/vnd.databricks.v1+cell": {
     "cellMetadata": {
      "byteLimit": 2048000,
      "rowLimit": 10000
     },
     "inputWidgets": {},
     "nuid": "2c0014e3-63cd-4d34-a544-4abb85dffa88",
     "showTitle": false,
     "title": ""
    }
   },
   "outputs": [
    {
     "output_type": "stream",
     "name": "stdout",
     "output_type": "stream",
     "text": [
      "root\n |-- TrackID: string (nullable = true)\n |-- TrackName: string (nullable = true)\n |-- AlbumName: string (nullable = true)\n |-- ArtistName: string (nullable = true)\n |-- ReleaseDate: timestamp (nullable = true)\n |-- Duration(ms): integer (nullable = true)\n |-- PopularityIndex: integer (nullable = true)\n |-- URL: string (nullable = true)\n\n"
     ]
    }
   ],
   "source": [
    "new_df.printSchema()"
   ]
  },
  {
   "cell_type": "code",
   "execution_count": 0,
   "metadata": {
    "application/vnd.databricks.v1+cell": {
     "cellMetadata": {
      "byteLimit": 2048000,
      "rowLimit": 10000
     },
     "inputWidgets": {},
     "nuid": "54ef7f86-1d43-4f2b-9a4f-d19a8a26b5b6",
     "showTitle": false,
     "title": ""
    }
   },
   "outputs": [
    {
     "output_type": "display_data",
     "data": {
      "text/html": [
       "<style scoped>\n",
       "  .ansiout {\n",
       "    display: block;\n",
       "    unicode-bidi: embed;\n",
       "    white-space: pre-wrap;\n",
       "    word-wrap: break-word;\n",
       "    word-break: break-all;\n",
       "    font-family: \"Source Code Pro\", \"Menlo\", monospace;;\n",
       "    font-size: 13px;\n",
       "    color: #555;\n",
       "    margin-left: 4px;\n",
       "    line-height: 19px;\n",
       "  }\n",
       "</style>"
      ]
     },
     "metadata": {
      "application/vnd.databricks.v1+output": {
       "arguments": {},
       "data": "",
       "errorSummary": "",
       "errorTraceType": null,
       "metadata": {},
       "type": "ipynbError"
      }
     },
     "output_type": "display_data"
    }
   ],
   "source": [
    "new_df = new_df.withColumnRenamed('TrackID','trackID') \\\n",
    "                .withColumnRenamed('TrackName', 'trackname') \\\n",
    "                .withColumnRenamed('AlbumName', 'album') \\\n",
    "                .withColumnRenamed('ArtistName', 'artists') \\\n",
    "                .withColumnRenamed('ReleaseDate', 'releasedate') \\\n",
    "                .withColumnRenamed('Duration(ms)', 'duration') \\\n",
    "                .withColumnRenamed('PopularityIndex', 'popularity') \\\n",
    "                .withColumnRenamed('URL', 'URL')"
   ]
  },
  {
   "cell_type": "code",
   "execution_count": 0,
   "metadata": {
    "application/vnd.databricks.v1+cell": {
     "cellMetadata": {
      "byteLimit": 2048000,
      "rowLimit": 10000
     },
     "inputWidgets": {},
     "nuid": "6856fbda-13e8-4542-81bc-2169ef39ef39",
     "showTitle": false,
     "title": ""
    }
   },
   "outputs": [
    {
     "output_type": "stream",
     "name": "stdout",
     "output_type": "stream",
     "text": [
      "+--------------------+--------------------+--------------------+--------------------+-------------------+--------+----------+--------------------+\n|             trackID|           trackname|               album|             artists|        releasedate|duration|popularity|                 URL|\n+--------------------+--------------------+--------------------+--------------------+-------------------+--------+----------+--------------------+\n|12PNcnMsjsZ3eHm62...|All I Do Is Win (...|             Victory|           DJ Khaled|2010-03-02 00:00:00|  232506|        71|https://open.spot...|\n|3ZCTVFBt2Brf31RLE...| everything i wanted| everything i wanted|       Billie Eilish|2019-11-13 00:00:00|  245425|        86|https://open.spot...|\n|0HaRLPnr887lcQM2Y...|For My Hand (feat...|        Love, Damini|Burna Boy, Ed She...|2022-07-07 00:00:00|  159123|        79|https://open.spot...|\n|3WxmlTZ85sCYFnuIX...|         party favor|    dont smile at me|       Billie Eilish|2017-12-22 00:00:00|  204770|        70|https://open.spot...|\n|3GYlZ7tbxLOxe6ewM...|                  TV|        Guitar Songs|       Billie Eilish|2022-07-21 00:00:00|  281380|        87|https://open.spot...|\n|4XbOWk2QMKiAvMBmC...|   Out Here Grindin'|           We Global|DJ Khaled, Plies,...|2008-09-16 00:00:00|  237240|        50|https://open.spot...|\n|6NmCCgnQcxKHPOAKg...|              Baby I|         Yours Truly|       Ariana Grande|2013-01-01 00:00:00|  197600|        65|https://open.spot...|\n|0QBzMgT7NIeoCYy3s...|Bam Bam (feat. Ed...|Bam Bam (feat. Ed...|Camila Cabello, E...|2022-03-04 00:00:00|  206070|        80|https://open.spot...|\n|0K2UmT0JOcEaLssWd...|off the table (wi...|           Positions|Ariana Grande, Th...|2020-10-30 00:00:00|  239949|        57|https://open.spot...|\n|2KLwPaRDOB87XOYAT...|Pussy & Millions ...|            Her Loss|Drake, 21 Savage,...|2022-11-04 00:00:00|  242026|        80|https://open.spot...|\n|2lD4LsB3iQVnddkVM...| Take It To The Head|Kiss The Ring (De...|DJ Khaled, Chris ...|2012-01-01 00:00:00|  267173|        55|https://open.spot...|\n|6vN77lE9LK6HP2Dew...|          Yes Indeed|    Harder Than Ever|     Lil Baby, Drake|2018-05-18 00:00:00|  142273|        83|https://open.spot...|\n|7jr3iPu4O4bTCVwLM...|    Kiss and Make Up|Dua Lipa (Complet...| Dua Lipa, BLACKPINK|2018-10-19 00:00:00|  189173|        76|https://open.spot...|\n|6IRdLKIyS4p7XNiP8...|all the good girl...|WHEN WE ALL FALL ...|       Billie Eilish|2019-03-29 00:00:00|  168839|        77|https://open.spot...|\n|5dPz35akJjPqb17ye...|               Ghost|             Justice|       Justin Bieber|2021-03-19 00:00:00|  153190|        76|https://open.spot...|\n|2KrOAg6FftbjgSKdd...|     You Are In Love|1989 (Deluxe Edit...|        Taylor Swift|2014-10-27 00:00:00|  267106|        74|https://open.spot...|\n|5XsAal7ZcWg1I5T4N...|      Halley's Comet|   Happier Than Ever|       Billie Eilish|2021-07-30 00:00:00|  234761|        79|https://open.spot...|\n|7uJH0YdSZL6psjxI6...|          Acquainted|Beauty Behind The...|          The Weeknd|2015-08-28 00:00:00|  348853|        76|https://open.spot...|\n|3cjF2OFRmip8spwZY...|        Feel No Ways|               Views|               Drake|2016-05-06 00:00:00|  240653|        79|https://open.spot...|\n|3RaT22zZsxVYxxKR7...|no body, no crime...|            evermore|  Taylor Swift, HAIM|2020-12-11 00:00:00|  215626|        75|https://open.spot...|\n+--------------------+--------------------+--------------------+--------------------+-------------------+--------+----------+--------------------+\nonly showing top 20 rows\n\n"
     ]
    }
   ],
   "source": [
    "new_df.show()"
   ]
  },
  {
   "cell_type": "code",
   "execution_count": 0,
   "metadata": {
    "application/vnd.databricks.v1+cell": {
     "cellMetadata": {
      "byteLimit": 2048000,
      "rowLimit": 10000
     },
     "inputWidgets": {},
     "nuid": "1a38c175-6943-46c0-b5e0-a08ac52881fa",
     "showTitle": false,
     "title": ""
    }
   },
   "outputs": [],
   "source": [
    "new_df = new_df.drop('URL')"
   ]
  },
  {
   "cell_type": "code",
   "execution_count": 0,
   "metadata": {
    "application/vnd.databricks.v1+cell": {
     "cellMetadata": {
      "byteLimit": 2048000,
      "rowLimit": 10000
     },
     "inputWidgets": {},
     "nuid": "f4e660a2-4460-45b8-be28-7957837a391c",
     "showTitle": false,
     "title": ""
    }
   },
   "outputs": [],
   "source": [
    "characters_to_replace = ['\\\\(', '\\\\)', '\\\\?', '\"', '\\\\[', '\\\\]', \"'\", '\\\\/']\n",
    "\n",
    "for char in characters_to_replace:\n",
    "    new_df = new_df.withColumn(\"trackname\", regexp_replace(new_df[\"trackname\"], char, \" \"))\n",
    "    new_df = new_df.withColumn(\"album\", regexp_replace(new_df[\"album\"], char, \" \"))\n",
    "    new_df = new_df.withColumn(\"trackname\", regexp_replace(new_df[\"trackname\"], \"-\", \" \"))\n",
    "    new_df = new_df.withColumn(\"album\", regexp_replace(new_df[\"album\"], \"-\", \" \" ))"
   ]
  },
  {
   "cell_type": "code",
   "execution_count": 0,
   "metadata": {
    "application/vnd.databricks.v1+cell": {
     "cellMetadata": {
      "byteLimit": 2048000,
      "rowLimit": 10000
     },
     "inputWidgets": {},
     "nuid": "4c311536-3924-4d72-9935-d5ea9da812b6",
     "showTitle": false,
     "title": ""
    }
   },
   "outputs": [
    {
     "output_type": "stream",
     "name": "stdout",
     "output_type": "stream",
     "text": [
      "+--------------------+--------------------+--------------------+--------------------+-------------------+--------+----------+\n|             trackID|           trackname|               album|             artists|        releasedate|duration|popularity|\n+--------------------+--------------------+--------------------+--------------------+-------------------+--------+----------+\n|12PNcnMsjsZ3eHm62...|All I Do Is Win  ...|             Victory|           DJ Khaled|2010-03-02 00:00:00|  232506|        71|\n|3ZCTVFBt2Brf31RLE...| everything i wanted| everything i wanted|       Billie Eilish|2019-11-13 00:00:00|  245425|        86|\n|0HaRLPnr887lcQM2Y...|For My Hand  feat...|        Love, Damini|Burna Boy, Ed She...|2022-07-07 00:00:00|  159123|        79|\n|3WxmlTZ85sCYFnuIX...|         party favor|    dont smile at me|       Billie Eilish|2017-12-22 00:00:00|  204770|        70|\n|3GYlZ7tbxLOxe6ewM...|                  TV|        Guitar Songs|       Billie Eilish|2022-07-21 00:00:00|  281380|        87|\n|4XbOWk2QMKiAvMBmC...|   Out Here Grindin |           We Global|DJ Khaled, Plies,...|2008-09-16 00:00:00|  237240|        50|\n|6NmCCgnQcxKHPOAKg...|              Baby I|         Yours Truly|       Ariana Grande|2013-01-01 00:00:00|  197600|        65|\n|0QBzMgT7NIeoCYy3s...|Bam Bam  feat. Ed...|Bam Bam  feat. Ed...|Camila Cabello, E...|2022-03-04 00:00:00|  206070|        80|\n|0K2UmT0JOcEaLssWd...|off the table  wi...|           Positions|Ariana Grande, Th...|2020-10-30 00:00:00|  239949|        57|\n|2KLwPaRDOB87XOYAT...|Pussy & Millions ...|            Her Loss|Drake, 21 Savage,...|2022-11-04 00:00:00|  242026|        80|\n|2lD4LsB3iQVnddkVM...| Take It To The Head|Kiss The Ring  De...|DJ Khaled, Chris ...|2012-01-01 00:00:00|  267173|        55|\n|6vN77lE9LK6HP2Dew...|          Yes Indeed|    Harder Than Ever|     Lil Baby, Drake|2018-05-18 00:00:00|  142273|        83|\n|7jr3iPu4O4bTCVwLM...|    Kiss and Make Up|Dua Lipa  Complet...| Dua Lipa, BLACKPINK|2018-10-19 00:00:00|  189173|        76|\n|6IRdLKIyS4p7XNiP8...|all the good girl...|WHEN WE ALL FALL ...|       Billie Eilish|2019-03-29 00:00:00|  168839|        77|\n|5dPz35akJjPqb17ye...|               Ghost|             Justice|       Justin Bieber|2021-03-19 00:00:00|  153190|        76|\n|2KrOAg6FftbjgSKdd...|     You Are In Love|1989  Deluxe Edit...|        Taylor Swift|2014-10-27 00:00:00|  267106|        74|\n|5XsAal7ZcWg1I5T4N...|      Halley s Comet|   Happier Than Ever|       Billie Eilish|2021-07-30 00:00:00|  234761|        79|\n|7uJH0YdSZL6psjxI6...|          Acquainted|Beauty Behind The...|          The Weeknd|2015-08-28 00:00:00|  348853|        76|\n|3cjF2OFRmip8spwZY...|        Feel No Ways|               Views|               Drake|2016-05-06 00:00:00|  240653|        79|\n|3RaT22zZsxVYxxKR7...|no body, no crime...|            evermore|  Taylor Swift, HAIM|2020-12-11 00:00:00|  215626|        75|\n+--------------------+--------------------+--------------------+--------------------+-------------------+--------+----------+\nonly showing top 20 rows\n\n"
     ]
    }
   ],
   "source": [
    "new_df.show()"
   ]
  },
  {
   "cell_type": "code",
   "execution_count": 0,
   "metadata": {
    "application/vnd.databricks.v1+cell": {
     "cellMetadata": {
      "byteLimit": 2048000,
      "rowLimit": 10000
     },
     "inputWidgets": {},
     "nuid": "c9076cac-7848-439a-aa2d-bfff95a3e7c4",
     "showTitle": false,
     "title": ""
    }
   },
   "outputs": [],
   "source": [
    "new_df = new_df.withColumn(\"duration\", round(col(\"duration\") / 1000, 2))"
   ]
  },
  {
   "cell_type": "code",
   "execution_count": 0,
   "metadata": {
    "application/vnd.databricks.v1+cell": {
     "cellMetadata": {
      "byteLimit": 2048000,
      "rowLimit": 10000
     },
     "inputWidgets": {},
     "nuid": "cf53db08-1576-42b7-8325-9eb6300c2159",
     "showTitle": false,
     "title": ""
    }
   },
   "outputs": [],
   "source": [
    "new_df = new_df.withColumn(\"trackID\", col(\"trackID\").cast(StringType())) \\\n",
    "                .withColumn(\"trackname\", col(\"trackname\").cast(StringType())) \\\n",
    "                .withColumn('album', col('album').cast(StringType())) \\\n",
    "                .withColumn('artists', col('artists').cast(StringType())) \\\n",
    "                .withColumn('releasedate', col('releasedate').cast(DateType())) \\\n",
    "                .withColumn('duration', col('duration').cast(FloatType())) \\\n",
    "                .withColumn('popularity', col('popularity').cast(IntegerType()))"
   ]
  },
  {
   "cell_type": "code",
   "execution_count": 0,
   "metadata": {
    "application/vnd.databricks.v1+cell": {
     "cellMetadata": {
      "byteLimit": 2048000,
      "rowLimit": 10000
     },
     "inputWidgets": {},
     "nuid": "8c8a310a-8570-4018-9788-6969d50544c6",
     "showTitle": false,
     "title": ""
    }
   },
   "outputs": [
    {
     "output_type": "stream",
     "name": "stdout",
     "output_type": "stream",
     "text": [
      "+--------------------+--------------------+--------------------+--------------------+-----------+--------+----------+\n|             trackID|           trackname|               album|             artists|releasedate|duration|popularity|\n+--------------------+--------------------+--------------------+--------------------+-----------+--------+----------+\n|12PNcnMsjsZ3eHm62...|All I Do Is Win  ...|             Victory|           DJ Khaled| 2010-03-02|  232.51|        71|\n|3ZCTVFBt2Brf31RLE...| everything i wanted| everything i wanted|       Billie Eilish| 2019-11-13|  245.43|        86|\n|0HaRLPnr887lcQM2Y...|For My Hand  feat...|        Love, Damini|Burna Boy, Ed She...| 2022-07-07|  159.12|        79|\n|3WxmlTZ85sCYFnuIX...|         party favor|    dont smile at me|       Billie Eilish| 2017-12-22|  204.77|        70|\n|3GYlZ7tbxLOxe6ewM...|                  TV|        Guitar Songs|       Billie Eilish| 2022-07-21|  281.38|        87|\n|4XbOWk2QMKiAvMBmC...|   Out Here Grindin |           We Global|DJ Khaled, Plies,...| 2008-09-16|  237.24|        50|\n|6NmCCgnQcxKHPOAKg...|              Baby I|         Yours Truly|       Ariana Grande| 2013-01-01|   197.6|        65|\n|0QBzMgT7NIeoCYy3s...|Bam Bam  feat. Ed...|Bam Bam  feat. Ed...|Camila Cabello, E...| 2022-03-04|  206.07|        80|\n|0K2UmT0JOcEaLssWd...|off the table  wi...|           Positions|Ariana Grande, Th...| 2020-10-30|  239.95|        57|\n|2KLwPaRDOB87XOYAT...|Pussy & Millions ...|            Her Loss|Drake, 21 Savage,...| 2022-11-04|  242.03|        80|\n|2lD4LsB3iQVnddkVM...| Take It To The Head|Kiss The Ring  De...|DJ Khaled, Chris ...| 2012-01-01|  267.17|        55|\n|6vN77lE9LK6HP2Dew...|          Yes Indeed|    Harder Than Ever|     Lil Baby, Drake| 2018-05-18|  142.27|        83|\n|7jr3iPu4O4bTCVwLM...|    Kiss and Make Up|Dua Lipa  Complet...| Dua Lipa, BLACKPINK| 2018-10-19|  189.17|        76|\n|6IRdLKIyS4p7XNiP8...|all the good girl...|WHEN WE ALL FALL ...|       Billie Eilish| 2019-03-29|  168.84|        77|\n|5dPz35akJjPqb17ye...|               Ghost|             Justice|       Justin Bieber| 2021-03-19|  153.19|        76|\n|2KrOAg6FftbjgSKdd...|     You Are In Love|1989  Deluxe Edit...|        Taylor Swift| 2014-10-27|  267.11|        74|\n|5XsAal7ZcWg1I5T4N...|      Halley s Comet|   Happier Than Ever|       Billie Eilish| 2021-07-30|  234.76|        79|\n|7uJH0YdSZL6psjxI6...|          Acquainted|Beauty Behind The...|          The Weeknd| 2015-08-28|  348.85|        76|\n|3cjF2OFRmip8spwZY...|        Feel No Ways|               Views|               Drake| 2016-05-06|  240.65|        79|\n|3RaT22zZsxVYxxKR7...|no body, no crime...|            evermore|  Taylor Swift, HAIM| 2020-12-11|  215.63|        75|\n+--------------------+--------------------+--------------------+--------------------+-----------+--------+----------+\nonly showing top 20 rows\n\n"
     ]
    }
   ],
   "source": [
    "new_df.show()"
   ]
  },
  {
   "cell_type": "markdown",
   "metadata": {
    "application/vnd.databricks.v1+cell": {
     "cellMetadata": {
      "byteLimit": 2048000,
      "rowLimit": 10000
     },
     "inputWidgets": {},
     "nuid": "219efd95-43d8-4167-95e5-a61aa69a2aa4",
     "showTitle": false,
     "title": ""
    }
   },
   "source": [
    "### Writing Data to ADLSv2"
   ]
  },
  {
   "cell_type": "code",
   "execution_count": 0,
   "metadata": {
    "application/vnd.databricks.v1+cell": {
     "cellMetadata": {
      "byteLimit": 2048000,
      "rowLimit": 10000
     },
     "inputWidgets": {},
     "nuid": "417a6453-d736-4334-8a9b-5400a5e89bf3",
     "showTitle": false,
     "title": ""
    }
   },
   "outputs": [],
   "source": [
    "new_df.repartition(1).write.mode(\"overwrite\").option(\"header\",\"true\").csv(\"/mnt/spotify/transformed-data/spotify_top_artists\")"
   ]
  }
 ],
 "metadata": {
  "application/vnd.databricks.v1+notebook": {
   "dashboards": [],
   "language": "python",
   "notebookMetadata": {
    "mostRecentlyExecutedCommandWithImplicitDF": {
     "commandId": 3076784967725578,
     "dataframes": [
      "_sqldf"
     ]
    },
    "pythonIndentUnit": 4
   },
   "notebookName": "Spotify Data Transformation - 1",
   "widgets": {}
  }
 },
 "nbformat": 4,
 "nbformat_minor": 0
}
